{
 "cells": [
  {
   "cell_type": "markdown",
   "metadata": {
    "colab_type": "text",
    "id": "Z0D1aWhDIOll"
   },
   "source": [
    "# Tipos de variables\n"
   ]
  },
  {
   "cell_type": "markdown",
   "metadata": {
    "colab_type": "text",
    "id": "Djst0v9qZ5ck"
   },
   "source": [
    "# Variables Numéricas"
   ]
  },
  {
   "cell_type": "code",
   "execution_count": null,
   "metadata": {
    "colab": {},
    "colab_type": "code",
    "id": "QBqT4JbtZ5c2"
   },
   "outputs": [],
   "source": [
    "#Vamos a crear nuestras primeras variables en Python\n",
    "x = 12"
   ]
  },
  {
   "cell_type": "code",
   "execution_count": null,
   "metadata": {
    "colab": {},
    "colab_type": "code",
    "id": "hZOxqnjCWwLT"
   },
   "outputs": [],
   "source": [
    "x"
   ]
  },
  {
   "cell_type": "code",
   "execution_count": null,
   "metadata": {
    "colab": {},
    "colab_type": "code",
    "id": "qjyITqUqWwFV"
   },
   "outputs": [],
   "source": [
    "y = 13.5"
   ]
  },
  {
   "cell_type": "code",
   "execution_count": null,
   "metadata": {
    "colab": {},
    "colab_type": "code",
    "id": "dYdwlGivWv7h"
   },
   "outputs": [],
   "source": [
    "y"
   ]
  },
  {
   "cell_type": "code",
   "execution_count": null,
   "metadata": {
    "colab": {},
    "colab_type": "code",
    "id": "wUELwShVeWm1"
   },
   "outputs": [],
   "source": [
    "#Visualizamos el tipo de dato de x\n",
    "type(x) "
   ]
  },
  {
   "cell_type": "code",
   "execution_count": null,
   "metadata": {
    "colab": {},
    "colab_type": "code",
    "id": "3Xc8hjm_eWho"
   },
   "outputs": [],
   "source": [
    "#Visualizamos el tipo de dato de y\n",
    "type(y)"
   ]
  },
  {
   "cell_type": "markdown",
   "metadata": {
    "colab_type": "text",
    "id": "Zf_2pxLdpwqP"
   },
   "source": [
    "## Conversión de variables numéricas"
   ]
  },
  {
   "cell_type": "code",
   "execution_count": null,
   "metadata": {
    "colab": {},
    "colab_type": "code",
    "id": "SZ90wKBGoXax"
   },
   "outputs": [],
   "source": [
    "x = 4.6\n",
    "y = 5.4"
   ]
  },
  {
   "cell_type": "code",
   "execution_count": null,
   "metadata": {
    "colab": {},
    "colab_type": "code",
    "id": "pz7E6znopvCt"
   },
   "outputs": [],
   "source": [
    "#Con esta función estamos convirtiendo a la variable x en una variable de tipo int\n",
    "z = int(x)\n",
    "z"
   ]
  },
  {
   "cell_type": "code",
   "execution_count": null,
   "metadata": {
    "colab": {},
    "colab_type": "code",
    "id": "O0438vQMpu_g"
   },
   "outputs": [],
   "source": [
    "#La función round redondea el número al valor superior más próximo\n",
    "z = round(x)\n",
    "z"
   ]
  },
  {
   "cell_type": "code",
   "execution_count": null,
   "metadata": {
    "colab": {},
    "colab_type": "code",
    "id": "kCFcrnXupuyJ"
   },
   "outputs": [],
   "source": [
    "#Veamos nuevamente el tipo de dato de x\n",
    "x = 4\n",
    "type(x)"
   ]
  },
  {
   "cell_type": "code",
   "execution_count": null,
   "metadata": {
    "colab": {},
    "colab_type": "code",
    "id": "9obD8peRoc_Z"
   },
   "outputs": [],
   "source": [
    "#Convertimos en flotante\n",
    "z = float(x)\n",
    "z"
   ]
  },
  {
   "cell_type": "code",
   "execution_count": null,
   "metadata": {
    "colab": {},
    "colab_type": "code",
    "id": "zkgi3q6Xoc8p"
   },
   "outputs": [],
   "source": [
    "type(z)"
   ]
  },
  {
   "cell_type": "markdown",
   "metadata": {
    "colab_type": "text",
    "id": "G2y4oId3Z_Ke"
   },
   "source": [
    "## Operadores de variables numéricas"
   ]
  },
  {
   "cell_type": "code",
   "execution_count": null,
   "metadata": {
    "colab": {},
    "colab_type": "code",
    "id": "KkeIk2p_Z_Fc"
   },
   "outputs": [],
   "source": [
    "x = 17\n",
    "y = 3"
   ]
  },
  {
   "cell_type": "code",
   "execution_count": null,
   "metadata": {
    "colab": {},
    "colab_type": "code",
    "id": "-YxwB9uaZ-5-"
   },
   "outputs": [],
   "source": [
    "x + y "
   ]
  },
  {
   "cell_type": "code",
   "execution_count": null,
   "metadata": {
    "colab": {},
    "colab_type": "code",
    "id": "xcSNdEXGQVKm"
   },
   "outputs": [],
   "source": [
    "x - y"
   ]
  },
  {
   "cell_type": "code",
   "execution_count": null,
   "metadata": {
    "colab": {},
    "colab_type": "code",
    "id": "4H9BFfqUQVH_"
   },
   "outputs": [],
   "source": [
    "x * y "
   ]
  },
  {
   "cell_type": "code",
   "execution_count": null,
   "metadata": {
    "colab": {},
    "colab_type": "code",
    "id": "QtECRy3rQU95"
   },
   "outputs": [],
   "source": [
    "x / y"
   ]
  },
  {
   "cell_type": "markdown",
   "metadata": {
    "colab_type": "text",
    "id": "F1SFucWpZ5c6"
   },
   "source": [
    "# Variables Booleanas"
   ]
  },
  {
   "cell_type": "code",
   "execution_count": null,
   "metadata": {
    "colab": {},
    "colab_type": "code",
    "id": "sDvXR1Q-Z5c7"
   },
   "outputs": [],
   "source": [
    "4 < 5"
   ]
  },
  {
   "cell_type": "code",
   "execution_count": null,
   "metadata": {
    "colab": {},
    "colab_type": "code",
    "id": "qXr1BSIQ6tBo"
   },
   "outputs": [],
   "source": [
    "4 > 5"
   ]
  },
  {
   "cell_type": "code",
   "execution_count": null,
   "metadata": {
    "colab": {},
    "colab_type": "code",
    "id": "FzNigyok6SuP"
   },
   "outputs": [],
   "source": [
    "4 == 6"
   ]
  },
  {
   "cell_type": "code",
   "execution_count": null,
   "metadata": {
    "colab": {},
    "colab_type": "code",
    "id": "rC1O9tVoZ5c8"
   },
   "outputs": [],
   "source": [
    "x = 5"
   ]
  },
  {
   "cell_type": "code",
   "execution_count": null,
   "metadata": {
    "colab": {},
    "colab_type": "code",
    "id": "dWUm7oIImqf5"
   },
   "outputs": [],
   "source": [
    "x = True\n",
    "y = False"
   ]
  },
  {
   "cell_type": "code",
   "execution_count": null,
   "metadata": {
    "colab": {},
    "colab_type": "code",
    "id": "VAQ6N4UvZ5c9"
   },
   "outputs": [],
   "source": [
    "x"
   ]
  },
  {
   "cell_type": "code",
   "execution_count": null,
   "metadata": {
    "colab": {},
    "colab_type": "code",
    "id": "WnN0KxWFZ5c-"
   },
   "outputs": [],
   "source": [
    "type(x)"
   ]
  },
  {
   "cell_type": "markdown",
   "metadata": {
    "colab_type": "text",
    "id": "eq8TL6iZZ5c_"
   },
   "source": [
    "## Operadores de combinación de variables booleanas"
   ]
  },
  {
   "cell_type": "code",
   "execution_count": null,
   "metadata": {
    "colab": {},
    "colab_type": "code",
    "id": "p96gZEq33Ijb"
   },
   "outputs": [],
   "source": [
    "a = True\n",
    "b = False"
   ]
  },
  {
   "cell_type": "code",
   "execution_count": null,
   "metadata": {
    "colab": {},
    "colab_type": "code",
    "id": "_iDR2zQr3Ifw"
   },
   "outputs": [],
   "source": [
    "a and a"
   ]
  },
  {
   "cell_type": "code",
   "execution_count": null,
   "metadata": {
    "colab": {},
    "colab_type": "code",
    "id": "10RNUMbB3Ic-"
   },
   "outputs": [],
   "source": [
    "a and b"
   ]
  },
  {
   "cell_type": "code",
   "execution_count": null,
   "metadata": {
    "colab": {},
    "colab_type": "code",
    "id": "spTaGkxi3IJ7"
   },
   "outputs": [],
   "source": [
    "a or b"
   ]
  },
  {
   "cell_type": "code",
   "execution_count": null,
   "metadata": {
    "colab": {},
    "colab_type": "code",
    "id": "RDfJeBn39MM1"
   },
   "outputs": [],
   "source": [
    "b or b"
   ]
  },
  {
   "cell_type": "code",
   "execution_count": null,
   "metadata": {
    "colab": {},
    "colab_type": "code",
    "id": "x0dF20aQ9MFG"
   },
   "outputs": [],
   "source": [
    "(3 < 4) and (4 < 5)"
   ]
  },
  {
   "cell_type": "markdown",
   "metadata": {
    "colab_type": "text",
    "id": "7D9w2keoZ5dB"
   },
   "source": [
    "# Strings"
   ]
  },
  {
   "cell_type": "code",
   "execution_count": null,
   "metadata": {
    "colab": {
     "base_uri": "https://localhost:8080/",
     "height": 37
    },
    "colab_type": "code",
    "executionInfo": {
     "elapsed": 812,
     "status": "ok",
     "timestamp": 1597526364175,
     "user": {
      "displayName": "Manuel Marino Montoya Gamio",
      "photoUrl": "https://lh3.googleusercontent.com/a-/AOh14Ggvwikw8yNTOrR63TADgIsw_qnmLKMoqjHZ_AxK=s64",
      "userId": "16723277136981296486"
     },
     "user_tz": 300
    },
    "id": "LCMkTrzw-s9H",
    "outputId": "00120cbe-89e9-49f7-aa19-37ad210afbdf"
   },
   "outputs": [],
   "source": [
    "saludo = \"Hola mundo!\"\n",
    "saludo"
   ]
  },
  {
   "cell_type": "code",
   "execution_count": null,
   "metadata": {
    "colab": {
     "base_uri": "https://localhost:8080/",
     "height": 34
    },
    "colab_type": "code",
    "executionInfo": {
     "elapsed": 828,
     "status": "ok",
     "timestamp": 1597526372324,
     "user": {
      "displayName": "Manuel Marino Montoya Gamio",
      "photoUrl": "https://lh3.googleusercontent.com/a-/AOh14Ggvwikw8yNTOrR63TADgIsw_qnmLKMoqjHZ_AxK=s64",
      "userId": "16723277136981296486"
     },
     "user_tz": 300
    },
    "id": "bA6kViAs-s0c",
    "outputId": "3ad74ee7-0b74-4cc2-ffb1-e595921f6f8d"
   },
   "outputs": [],
   "source": [
    "type(saludo)"
   ]
  },
  {
   "cell_type": "code",
   "execution_count": null,
   "metadata": {
    "colab": {
     "base_uri": "https://localhost:8080/",
     "height": 37
    },
    "colab_type": "code",
    "executionInfo": {
     "elapsed": 830,
     "status": "ok",
     "timestamp": 1597526580722,
     "user": {
      "displayName": "Manuel Marino Montoya Gamio",
      "photoUrl": "https://lh3.googleusercontent.com/a-/AOh14Ggvwikw8yNTOrR63TADgIsw_qnmLKMoqjHZ_AxK=s64",
      "userId": "16723277136981296486"
     },
     "user_tz": 300
    },
    "id": "JAgpZ_AK-sfh",
    "outputId": "f3cd455d-f5fc-4f03-b70e-a2ac6778bb56"
   },
   "outputs": [],
   "source": [
    "nombre = \"Layla\"\n",
    "edad = 29\n",
    "\n",
    "saludo = f\"Hola {nombre}, tu edad es {edad}\"\n",
    "saludo"
   ]
  },
  {
   "cell_type": "markdown",
   "metadata": {
    "colab_type": "text",
    "id": "bePXWjeQ-pbo"
   },
   "source": [
    "## Operadores de strings"
   ]
  },
  {
   "cell_type": "code",
   "execution_count": null,
   "metadata": {
    "colab": {},
    "colab_type": "code",
    "id": "uRKAY-4tZ5dB"
   },
   "outputs": [],
   "source": [
    "cadena = \"Layla\""
   ]
  },
  {
   "cell_type": "code",
   "execution_count": null,
   "metadata": {
    "colab": {
     "base_uri": "https://localhost:8080/",
     "height": 37
    },
    "colab_type": "code",
    "executionInfo": {
     "elapsed": 737,
     "status": "ok",
     "timestamp": 1597526922022,
     "user": {
      "displayName": "Manuel Marino Montoya Gamio",
      "photoUrl": "https://lh3.googleusercontent.com/a-/AOh14Ggvwikw8yNTOrR63TADgIsw_qnmLKMoqjHZ_AxK=s64",
      "userId": "16723277136981296486"
     },
     "user_tz": 300
    },
    "id": "qrWJxxwJZ5dC",
    "outputId": "70d77fd7-3698-4d65-c07f-d6d5ea84524a"
   },
   "outputs": [],
   "source": [
    "cadena + \", Ingeniera en Sistemas de Información\""
   ]
  },
  {
   "cell_type": "code",
   "execution_count": null,
   "metadata": {
    "colab": {
     "base_uri": "https://localhost:8080/",
     "height": 37
    },
    "colab_type": "code",
    "executionInfo": {
     "elapsed": 683,
     "status": "ok",
     "timestamp": 1597526951811,
     "user": {
      "displayName": "Manuel Marino Montoya Gamio",
      "photoUrl": "https://lh3.googleusercontent.com/a-/AOh14Ggvwikw8yNTOrR63TADgIsw_qnmLKMoqjHZ_AxK=s64",
      "userId": "16723277136981296486"
     },
     "user_tz": 300
    },
    "id": "uvXpKPaxZ5dD",
    "outputId": "9c530fcf-c556-4430-824d-ba202331ccb0"
   },
   "outputs": [],
   "source": [
    "cadena * 5"
   ]
  },
  {
   "cell_type": "code",
   "execution_count": null,
   "metadata": {
    "colab": {
     "base_uri": "https://localhost:8080/",
     "height": 164
    },
    "colab_type": "code",
    "executionInfo": {
     "elapsed": 712,
     "status": "error",
     "timestamp": 1597526968538,
     "user": {
      "displayName": "Manuel Marino Montoya Gamio",
      "photoUrl": "https://lh3.googleusercontent.com/a-/AOh14Ggvwikw8yNTOrR63TADgIsw_qnmLKMoqjHZ_AxK=s64",
      "userId": "16723277136981296486"
     },
     "user_tz": 300
    },
    "id": "EeW1j8jCZ5dE",
    "outputId": "1ccd3285-8f06-47fa-f64c-6bd5f42051e5"
   },
   "outputs": [],
   "source": [
    "#Me indica un error porque no puedo realizar este tipo de operaciones sobre cadenas de textos\n",
    "cadena / 5 "
   ]
  },
  {
   "cell_type": "markdown",
   "metadata": {
    "colab_type": "text",
    "id": "1C2hKwD0Jk0g"
   },
   "source": [
    "## Otros operadores de strings"
   ]
  },
  {
   "cell_type": "code",
   "execution_count": null,
   "metadata": {
    "colab": {
     "base_uri": "https://localhost:8080/",
     "height": 34
    },
    "colab_type": "code",
    "executionInfo": {
     "elapsed": 749,
     "status": "ok",
     "timestamp": 1597529178863,
     "user": {
      "displayName": "Manuel Marino Montoya Gamio",
      "photoUrl": "https://lh3.googleusercontent.com/a-/AOh14Ggvwikw8yNTOrR63TADgIsw_qnmLKMoqjHZ_AxK=s64",
      "userId": "16723277136981296486"
     },
     "user_tz": 300
    },
    "id": "BS1Gqd69JqWv",
    "outputId": "0f50d816-4679-4bc0-8491-78e23a7bf0d4"
   },
   "outputs": [],
   "source": [
    "\"Brasil\" == \"Brasil\""
   ]
  },
  {
   "cell_type": "code",
   "execution_count": null,
   "metadata": {
    "colab": {
     "base_uri": "https://localhost:8080/",
     "height": 34
    },
    "colab_type": "code",
    "executionInfo": {
     "elapsed": 725,
     "status": "ok",
     "timestamp": 1597529187016,
     "user": {
      "displayName": "Manuel Marino Montoya Gamio",
      "photoUrl": "https://lh3.googleusercontent.com/a-/AOh14Ggvwikw8yNTOrR63TADgIsw_qnmLKMoqjHZ_AxK=s64",
      "userId": "16723277136981296486"
     },
     "user_tz": 300
    },
    "id": "wXHG9ZztJqMN",
    "outputId": "18731054-0834-4c31-fb3b-a9136465462f"
   },
   "outputs": [],
   "source": [
    "\"Brasil\" == \"brasil\""
   ]
  },
  {
   "cell_type": "code",
   "execution_count": null,
   "metadata": {
    "colab": {},
    "colab_type": "code",
    "id": "9nDb7xbdJo-l"
   },
   "outputs": [],
   "source": [
    "cadena = \"Layla Scheli\""
   ]
  },
  {
   "cell_type": "code",
   "execution_count": null,
   "metadata": {
    "colab": {
     "base_uri": "https://localhost:8080/",
     "height": 37
    },
    "colab_type": "code",
    "executionInfo": {
     "elapsed": 1014,
     "status": "ok",
     "timestamp": 1597529230378,
     "user": {
      "displayName": "Manuel Marino Montoya Gamio",
      "photoUrl": "https://lh3.googleusercontent.com/a-/AOh14Ggvwikw8yNTOrR63TADgIsw_qnmLKMoqjHZ_AxK=s64",
      "userId": "16723277136981296486"
     },
     "user_tz": 300
    },
    "id": "9dc-zY1-Jo0S",
    "outputId": "05ec22c7-0235-48ca-8338-dfe538331068"
   },
   "outputs": [],
   "source": [
    "cadena.upper() #Convierto en mayúscula el texto"
   ]
  },
  {
   "cell_type": "code",
   "execution_count": null,
   "metadata": {
    "colab": {
     "base_uri": "https://localhost:8080/",
     "height": 37
    },
    "colab_type": "code",
    "executionInfo": {
     "elapsed": 854,
     "status": "ok",
     "timestamp": 1597529237846,
     "user": {
      "displayName": "Manuel Marino Montoya Gamio",
      "photoUrl": "https://lh3.googleusercontent.com/a-/AOh14Ggvwikw8yNTOrR63TADgIsw_qnmLKMoqjHZ_AxK=s64",
      "userId": "16723277136981296486"
     },
     "user_tz": 300
    },
    "id": "Z_qickFjJong",
    "outputId": "d530ff3e-bc79-4bd6-dcbf-d01dfe1ca7e1"
   },
   "outputs": [],
   "source": [
    "cadena.lower() #Convierto en minúscula el texto"
   ]
  },
  {
   "cell_type": "markdown",
   "metadata": {
    "colab_type": "text",
    "id": "49q42vMDZ5dF"
   },
   "source": [
    "## Ingreso de valores por el usuario"
   ]
  },
  {
   "cell_type": "code",
   "execution_count": null,
   "metadata": {
    "colab": {
     "base_uri": "https://localhost:8080/",
     "height": 54
    },
    "colab_type": "code",
    "executionInfo": {
     "elapsed": 12543,
     "status": "ok",
     "timestamp": 1597527148412,
     "user": {
      "displayName": "Manuel Marino Montoya Gamio",
      "photoUrl": "https://lh3.googleusercontent.com/a-/AOh14Ggvwikw8yNTOrR63TADgIsw_qnmLKMoqjHZ_AxK=s64",
      "userId": "16723277136981296486"
     },
     "user_tz": 300
    },
    "id": "YJcDSFVT-4EP",
    "outputId": "5c61ee9f-d801-4243-c7dd-a79bc25cfa95"
   },
   "outputs": [],
   "source": [
    "input()"
   ]
  },
  {
   "cell_type": "code",
   "execution_count": null,
   "metadata": {
    "colab": {
     "base_uri": "https://localhost:8080/",
     "height": 34
    },
    "colab_type": "code",
    "executionInfo": {
     "elapsed": 9363,
     "status": "ok",
     "timestamp": 1597527183084,
     "user": {
      "displayName": "Manuel Marino Montoya Gamio",
      "photoUrl": "https://lh3.googleusercontent.com/a-/AOh14Ggvwikw8yNTOrR63TADgIsw_qnmLKMoqjHZ_AxK=s64",
      "userId": "16723277136981296486"
     },
     "user_tz": 300
    },
    "id": "_YSQiZZ--31j",
    "outputId": "aa8c0f6a-a0c4-4765-9a90-e6819c258daf"
   },
   "outputs": [],
   "source": [
    "nombre = input(\"Ingrese su nombre:\")"
   ]
  },
  {
   "cell_type": "code",
   "execution_count": null,
   "metadata": {
    "colab": {
     "base_uri": "https://localhost:8080/",
     "height": 37
    },
    "colab_type": "code",
    "executionInfo": {
     "elapsed": 1089,
     "status": "ok",
     "timestamp": 1597527189360,
     "user": {
      "displayName": "Manuel Marino Montoya Gamio",
      "photoUrl": "https://lh3.googleusercontent.com/a-/AOh14Ggvwikw8yNTOrR63TADgIsw_qnmLKMoqjHZ_AxK=s64",
      "userId": "16723277136981296486"
     },
     "user_tz": 300
    },
    "id": "MEMydhjcA76h",
    "outputId": "5be706ba-fa17-418c-fbf8-b7b4571f64e4"
   },
   "outputs": [],
   "source": [
    "nombre"
   ]
  },
  {
   "cell_type": "code",
   "execution_count": null,
   "metadata": {
    "colab": {
     "base_uri": "https://localhost:8080/",
     "height": 34
    },
    "colab_type": "code",
    "executionInfo": {
     "elapsed": 6297,
     "status": "ok",
     "timestamp": 1597527208064,
     "user": {
      "displayName": "Manuel Marino Montoya Gamio",
      "photoUrl": "https://lh3.googleusercontent.com/a-/AOh14Ggvwikw8yNTOrR63TADgIsw_qnmLKMoqjHZ_AxK=s64",
      "userId": "16723277136981296486"
     },
     "user_tz": 300
    },
    "id": "863pYN86BP9I",
    "outputId": "f5ac6e11-3c02-43ad-b806-c97e5ab11b63"
   },
   "outputs": [],
   "source": [
    "edad = input(\"Ingrese su edad: \")"
   ]
  },
  {
   "cell_type": "code",
   "execution_count": null,
   "metadata": {
    "colab": {
     "base_uri": "https://localhost:8080/",
     "height": 34
    },
    "colab_type": "code",
    "executionInfo": {
     "elapsed": 919,
     "status": "ok",
     "timestamp": 1597527257318,
     "user": {
      "displayName": "Manuel Marino Montoya Gamio",
      "photoUrl": "https://lh3.googleusercontent.com/a-/AOh14Ggvwikw8yNTOrR63TADgIsw_qnmLKMoqjHZ_AxK=s64",
      "userId": "16723277136981296486"
     },
     "user_tz": 300
    },
    "id": "jy_tjoSTC1nQ",
    "outputId": "f727bd6b-e930-4245-fe5d-9183df57739e"
   },
   "outputs": [],
   "source": [
    "type(edad)"
   ]
  },
  {
   "cell_type": "code",
   "execution_count": null,
   "metadata": {
    "colab": {
     "base_uri": "https://localhost:8080/",
     "height": 34
    },
    "colab_type": "code",
    "executionInfo": {
     "elapsed": 893,
     "status": "ok",
     "timestamp": 1597527272367,
     "user": {
      "displayName": "Manuel Marino Montoya Gamio",
      "photoUrl": "https://lh3.googleusercontent.com/a-/AOh14Ggvwikw8yNTOrR63TADgIsw_qnmLKMoqjHZ_AxK=s64",
      "userId": "16723277136981296486"
     },
     "user_tz": 300
    },
    "id": "gZwa-R-DCSmY",
    "outputId": "80c4ac87-b3c6-424e-f5a8-c88974d38079"
   },
   "outputs": [],
   "source": [
    "edad = int(edad)\n",
    "type(edad)"
   ]
  },
  {
   "cell_type": "code",
   "execution_count": null,
   "metadata": {
    "colab": {
     "base_uri": "https://localhost:8080/",
     "height": 34
    },
    "colab_type": "code",
    "executionInfo": {
     "elapsed": 1004,
     "status": "ok",
     "timestamp": 1597527278140,
     "user": {
      "displayName": "Manuel Marino Montoya Gamio",
      "photoUrl": "https://lh3.googleusercontent.com/a-/AOh14Ggvwikw8yNTOrR63TADgIsw_qnmLKMoqjHZ_AxK=s64",
      "userId": "16723277136981296486"
     },
     "user_tz": 300
    },
    "id": "_uyGeGyQCRmS",
    "outputId": "ac69c5b5-0e6b-4ea1-f36d-307a6bf621e7"
   },
   "outputs": [],
   "source": [
    "edad"
   ]
  }
 ],
 "metadata": {
  "colab": {
   "collapsed_sections": [],
   "name": "datahack-02-tipos-variables-operadores.ipynb",
   "provenance": []
  },
  "kernelspec": {
   "display_name": "Python 3 (ipykernel)",
   "language": "python",
   "name": "python3"
  },
  "language_info": {
   "codemirror_mode": {
    "name": "ipython",
    "version": 3
   },
   "file_extension": ".py",
   "mimetype": "text/x-python",
   "name": "python",
   "nbconvert_exporter": "python",
   "pygments_lexer": "ipython3",
   "version": "3.9.12"
  },
  "varInspector": {
   "cols": {
    "lenName": 16,
    "lenType": 16,
    "lenVar": 40
   },
   "kernels_config": {
    "python": {
     "delete_cmd_postfix": "",
     "delete_cmd_prefix": "del ",
     "library": "var_list.py",
     "varRefreshCmd": "print(var_dic_list())"
    },
    "r": {
     "delete_cmd_postfix": ") ",
     "delete_cmd_prefix": "rm(",
     "library": "var_list.r",
     "varRefreshCmd": "cat(var_dic_list()) "
    }
   },
   "types_to_exclude": [
    "module",
    "function",
    "builtin_function_or_method",
    "instance",
    "_Feature"
   ],
   "window_display": false
  }
 },
 "nbformat": 4,
 "nbformat_minor": 1
}
