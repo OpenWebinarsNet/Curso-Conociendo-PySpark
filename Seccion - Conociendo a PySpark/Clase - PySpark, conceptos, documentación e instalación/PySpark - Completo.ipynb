{
 "cells": [
  {
   "cell_type": "code",
   "execution_count": 3,
   "id": "d548da84",
   "metadata": {},
   "outputs": [],
   "source": [
    "import pyspark\n",
    "\n",
    "#Creamos una sesion de spark\n",
    "from pyspark.sql import SparkSession\n",
    "\n",
    "#Creamos un objeto de spark session\n",
    "spark = SparkSession.builder.appName(\"pysparkdf\").getOrCreate()"
   ]
  },
  {
   "cell_type": "code",
   "execution_count": 4,
   "id": "a5aa3275",
   "metadata": {},
   "outputs": [],
   "source": [
    "#Leemos un csv\n",
    "df = spark.read.option(\"header\", \"true\").csv(\"E:/Lay/Docencia/Open Webinars/Conociendo PySpark/Bloque 2/Datos y Materiales/3. Seccion - Conociendo a PySpark/2. Clase - PySpark, conceptos, documentación e instalación/cereal.csv\")"
   ]
  },
  {
   "cell_type": "code",
   "execution_count": 5,
   "id": "d741e8af",
   "metadata": {},
   "outputs": [
    {
     "name": "stdout",
     "output_type": "stream",
     "text": [
      "+--------------------+---+----+--------+-------+---+------+-----+-----+------+------+--------+-----+------+----+---------+\n",
      "|                name|mfr|type|calories|protein|fat|sodium|fiber|carbo|sugars|potass|vitamins|shelf|weight|cups|   rating|\n",
      "+--------------------+---+----+--------+-------+---+------+-----+-----+------+------+--------+-----+------+----+---------+\n",
      "|           100% Bran|  N|   C|      70|      4|  1|   130|   10|    5|     6|   280|      25|    3|     1|0.33|68.402973|\n",
      "|   100% Natural Bran|  Q|   C|     120|      3|  5|    15|    2|    8|     8|   135|       0|    3|     1|   1|33.983679|\n",
      "|            All-Bran|  K|   C|      70|      4|  1|   260|    9|    7|     5|   320|      25|    3|     1|0.33|59.425505|\n",
      "|All-Bran with Ext...|  K|   C|      50|      4|  0|   140|   14|    8|     0|   330|      25|    3|     1| 0.5|93.704912|\n",
      "|      Almond Delight|  R|   C|     110|      2|  2|   200|    1|   14|     8|    -1|      25|    3|     1|0.75|34.384843|\n",
      "|Apple Cinnamon Ch...|  G|   C|     110|      2|  2|   180|  1.5| 10.5|    10|    70|      25|    1|     1|0.75|29.509541|\n",
      "|         Apple Jacks|  K|   C|     110|      2|  0|   125|    1|   11|    14|    30|      25|    2|     1|   1|33.174094|\n",
      "|             Basic 4|  G|   C|     130|      3|  2|   210|    2|   18|     8|   100|      25|    3|  1.33|0.75|37.038562|\n",
      "|           Bran Chex|  R|   C|      90|      2|  1|   200|    4|   15|     6|   125|      25|    1|     1|0.67|49.120253|\n",
      "|         Bran Flakes|  P|   C|      90|      3|  0|   210|    5|   13|     5|   190|      25|    3|     1|0.67|53.313813|\n",
      "+--------------------+---+----+--------+-------+---+------+-----+-----+------+------+--------+-----+------+----+---------+\n",
      "only showing top 10 rows\n",
      "\n"
     ]
    }
   ],
   "source": [
    "#Mostramos los primeros 10 registros\n",
    "df.show(10)"
   ]
  },
  {
   "cell_type": "code",
   "execution_count": 6,
   "id": "7a1edafd",
   "metadata": {},
   "outputs": [
    {
     "name": "stdout",
     "output_type": "stream",
     "text": [
      "root\n",
      " |-- name: string (nullable = true)\n",
      " |-- mfr: string (nullable = true)\n",
      " |-- type: string (nullable = true)\n",
      " |-- calories: string (nullable = true)\n",
      " |-- protein: string (nullable = true)\n",
      " |-- fat: string (nullable = true)\n",
      " |-- sodium: string (nullable = true)\n",
      " |-- fiber: string (nullable = true)\n",
      " |-- carbo: string (nullable = true)\n",
      " |-- sugars: string (nullable = true)\n",
      " |-- potass: string (nullable = true)\n",
      " |-- vitamins: string (nullable = true)\n",
      " |-- shelf: string (nullable = true)\n",
      " |-- weight: string (nullable = true)\n",
      " |-- cups: string (nullable = true)\n",
      " |-- rating: string (nullable = true)\n",
      "\n"
     ]
    }
   ],
   "source": [
    "#Para ver el esquema de los datos podemos por ej, aplicar el siguiente codigo!\n",
    "df.printSchema()"
   ]
  },
  {
   "cell_type": "markdown",
   "id": "63ce96cd",
   "metadata": {},
   "source": [
    "Comencemos con las funciones:\n",
    "\n",
    "* Seleccione(): La función de selección nos ayuda a mostrar un subconjunto de columnas\n",
    "seleccionadas de todo el marco de datos, solo necesitamos pasar los nombres de columna\n",
    "deseados. Imprimamos tres columnas cualesquiera del marco de datos usando select ().\n"
   ]
  },
  {
   "cell_type": "code",
   "execution_count": 7,
   "id": "82736a49",
   "metadata": {},
   "outputs": [
    {
     "name": "stdout",
     "output_type": "stream",
     "text": [
      "+--------------------+---+---------+\n",
      "|                name|mfr|   rating|\n",
      "+--------------------+---+---------+\n",
      "|           100% Bran|  N|68.402973|\n",
      "|   100% Natural Bran|  Q|33.983679|\n",
      "|            All-Bran|  K|59.425505|\n",
      "|All-Bran with Ext...|  K|93.704912|\n",
      "|      Almond Delight|  R|34.384843|\n",
      "|Apple Cinnamon Ch...|  G|29.509541|\n",
      "|         Apple Jacks|  K|33.174094|\n",
      "|             Basic 4|  G|37.038562|\n",
      "|           Bran Chex|  R|49.120253|\n",
      "|         Bran Flakes|  P|53.313813|\n",
      "+--------------------+---+---------+\n",
      "only showing top 10 rows\n",
      "\n"
     ]
    }
   ],
   "source": [
    "#Seleccionamos ciertas columnas\n",
    "df.select('name', 'mfr', 'rating').show(10)"
   ]
  },
  {
   "cell_type": "markdown",
   "id": "e8e88778",
   "metadata": {},
   "source": [
    "* withColumn (): La función withColumn se usa para manipular una columna o para crear\n",
    "una nueva columna con la columna existente. Es una función de transformación, también\n",
    "podemos cambiar el tipo de datos de cualquier columna existente.\n",
    "\n",
    "En el esquema de DataFrame, vimos que todas las columnas son de tipo cadena. Cambiemos el\n",
    "tipo de datos de la columna de calorías a un número entero."
   ]
  },
  {
   "cell_type": "code",
   "execution_count": 8,
   "id": "983c36e0",
   "metadata": {},
   "outputs": [
    {
     "name": "stdout",
     "output_type": "stream",
     "text": [
      "root\n",
      " |-- name: string (nullable = true)\n",
      " |-- mfr: string (nullable = true)\n",
      " |-- type: string (nullable = true)\n",
      " |-- Calories: integer (nullable = true)\n",
      " |-- protein: string (nullable = true)\n",
      " |-- fat: string (nullable = true)\n",
      " |-- sodium: string (nullable = true)\n",
      " |-- fiber: string (nullable = true)\n",
      " |-- carbo: string (nullable = true)\n",
      " |-- sugars: string (nullable = true)\n",
      " |-- potass: string (nullable = true)\n",
      " |-- vitamins: string (nullable = true)\n",
      " |-- shelf: string (nullable = true)\n",
      " |-- weight: string (nullable = true)\n",
      " |-- cups: string (nullable = true)\n",
      " |-- rating: string (nullable = true)\n",
      "\n"
     ]
    }
   ],
   "source": [
    "df.withColumn(\"Calories\",df['calories'].cast(\"Integer\")).printSchema()"
   ]
  },
  {
   "cell_type": "markdown",
   "id": "7fa88e7d",
   "metadata": {},
   "source": [
    "* agrupar por(): La función groupBy se utiliza para recopilar los datos en grupos en\n",
    "DataFrame y nos permite realizar funciones agregadas en los datos agrupados. Esta es\n",
    "una operación de análisis de datos muy común similar a la cláusula groupBy en SQL."
   ]
  },
  {
   "cell_type": "code",
   "execution_count": 9,
   "id": "c3d10ae9",
   "metadata": {},
   "outputs": [
    {
     "name": "stdout",
     "output_type": "stream",
     "text": [
      "+--------------------+--------+-----+\n",
      "|                name|calories|count|\n",
      "+--------------------+--------+-----+\n",
      "|             Basic 4|     130|    1|\n",
      "|         Cocoa Puffs|     110|    1|\n",
      "|Strawberry Fruit ...|      90|    1|\n",
      "|  Great Grains Pecan|     120|    1|\n",
      "|          Wheat Chex|     100|    1|\n",
      "|Mueslix Crispy Blend|     160|    1|\n",
      "|     Raisin Nut Bran|     100|    1|\n",
      "|  Honey Nut Cheerios|     110|    1|\n",
      "|         Corn Flakes|     100|    1|\n",
      "|                Trix|     110|    1|\n",
      "|   Grape Nuts Flakes|     100|    1|\n",
      "|Muesli Raisins; P...|     150|    1|\n",
      "|      Fruity Pebbles|     110|    1|\n",
      "|Shredded Wheat 'n...|      90|    1|\n",
      "|Post Nat. Raisin ...|     120|    1|\n",
      "|   Total Raisin Bran|     140|    1|\n",
      "|           Corn Pops|     110|    1|\n",
      "|  Cracklin' Oat Bran|     110|    1|\n",
      "|Cinnamon Toast Cr...|     120|    1|\n",
      "|                 Kix|     110|    1|\n",
      "+--------------------+--------+-----+\n",
      "only showing top 20 rows\n",
      "\n"
     ]
    }
   ],
   "source": [
    "df.groupBy(\"name\", \"calories\").count().show()"
   ]
  },
  {
   "cell_type": "markdown",
   "id": "fe4ae700",
   "metadata": {},
   "source": [
    "* orderBy (): La función orderBy se utiliza para ordenar todo el marco de datos en función\n",
    "de la columna particular del marco de datos. Ordena las filas del marco de datos según\n",
    "los valores de las columnas. De forma predeterminada, se clasifica en orden ascendente.\n",
    "Analicemos el marco de datos en función de la columna de proteínas del conjunto de datos.\n"
   ]
  },
  {
   "cell_type": "code",
   "execution_count": 10,
   "id": "5253bbb8",
   "metadata": {},
   "outputs": [
    {
     "name": "stdout",
     "output_type": "stream",
     "text": [
      "+--------------------+---+----+--------+-------+---+------+-----+-----+------+------+--------+-----+------+----+---------+\n",
      "|                name|mfr|type|calories|protein|fat|sodium|fiber|carbo|sugars|potass|vitamins|shelf|weight|cups|   rating|\n",
      "+--------------------+---+----+--------+-------+---+------+-----+-----+------+------+--------+-----+------+----+---------+\n",
      "|        Cap'n'Crunch|  Q|   C|     120|      1|  2|   220|    0|   12|    12|    35|      25|    2|     1|0.75|18.042851|\n",
      "|Cinnamon Toast Cr...|  G|   C|     120|      1|  3|   210|    0|   13|     9|    45|      25|    2|     1|0.75|19.823573|\n",
      "|         Cocoa Puffs|  G|   C|     110|      1|  1|   180|    0|   12|    13|    55|      25|    2|     1|   1|22.736446|\n",
      "|           Corn Pops|  K|   C|     110|      1|  0|    90|    1|   13|    12|    20|      25|    2|     1|   1|35.782791|\n",
      "|       Count Chocula|  G|   C|     110|      1|  1|   180|    0|   12|    13|    65|      25|    2|     1|   1|22.396513|\n",
      "|      Frosted Flakes|  K|   C|     110|      1|  0|   200|    1|   14|    11|    25|      25|    1|     1|0.75|31.435973|\n",
      "|      Fruity Pebbles|  P|   C|     110|      1|  1|   135|    0|   13|    12|    25|      25|    2|     1|0.75|28.025765|\n",
      "|      Golden Grahams|  G|   C|     110|      1|  1|   280|    0|   15|     9|    45|      25|    2|     1|0.75|23.804043|\n",
      "|    Honey Graham Ohs|  Q|   C|     120|      1|  2|   220|    1|   12|    11|    45|      25|    2|     1|   1|21.871292|\n",
      "|          Honey-comb|  P|   C|     110|      1|  0|   180|    0|   14|    11|    35|      25|    1|     1|1.33|28.742414|\n",
      "|         Puffed Rice|  Q|   C|      50|      1|  0|     0|    0|   13|     0|    15|       0|    3|   0.5|   1|60.756112|\n",
      "|           Rice Chex|  R|   C|     110|      1|  0|   240|    0|   23|     2|    30|      25|    1|     1|1.13|41.998933|\n",
      "|                Trix|  G|   C|     110|      1|  1|   140|    0|   13|    12|    25|      25|    2|     1|   1|27.753301|\n",
      "|         Froot Loops|  K|   C|     110|      2|  1|   125|    1|   11|    13|    30|      25|    2|     1|   1|32.207582|\n",
      "|Apple Cinnamon Ch...|  G|   C|     110|      2|  2|   180|  1.5| 10.5|    10|    70|      25|    1|     1|0.75|29.509541|\n",
      "|             Crispix|  K|   C|     110|      2|  0|   220|    1|   21|     3|    30|      25|    3|     1|   1|46.895644|\n",
      "|         Apple Jacks|  K|   C|     110|      2|  0|   125|    1|   11|    14|    30|      25|    2|     1|   1|33.174094|\n",
      "|         Corn Flakes|  K|   C|     100|      2|  0|   290|    1|   21|     2|    35|      25|    1|     1|   1|45.863324|\n",
      "|        Golden Crisp|  P|   C|     100|      2|  0|    45|    0|   11|    15|    40|      25|    1|     1|0.88|35.252444|\n",
      "|Crispy Wheat & Ra...|  G|   C|     100|      2|  1|   140|    2|   11|    10|   120|      25|    3|     1|0.75|36.176196|\n",
      "+--------------------+---+----+--------+-------+---+------+-----+-----+------+------+--------+-----+------+----+---------+\n",
      "only showing top 20 rows\n",
      "\n"
     ]
    }
   ],
   "source": [
    "df.orderBy(\"protein\").show()"
   ]
  },
  {
   "cell_type": "markdown",
   "id": "3a3b0ed4",
   "metadata": {},
   "source": [
    "* cuando(): El cuándo se utiliza la función para mostrar la salida en función de la condición\n",
    "particular. Evalúa la condición proporcionada y luego devuelve los valores en\n",
    "consecuencia. Es una función SQL que admite PySpark para verificar múltiples condiciones\n",
    "en una secuencia y devolver el valor. Esta función funciona de manera similar como\n",
    "instrucciones if-then-else y switch.\n",
    "\n"
   ]
  },
  {
   "cell_type": "code",
   "execution_count": 11,
   "id": "85f3c10d",
   "metadata": {},
   "outputs": [
    {
     "name": "stdout",
     "output_type": "stream",
     "text": [
      "+--------------------+----------------------------------------------------+\n",
      "|                name|CASE WHEN (vitamins >= 25) THEN rich in vitamins END|\n",
      "+--------------------+----------------------------------------------------+\n",
      "|           100% Bran|                                    rich in vitamins|\n",
      "|   100% Natural Bran|                                                null|\n",
      "|            All-Bran|                                    rich in vitamins|\n",
      "|All-Bran with Ext...|                                    rich in vitamins|\n",
      "|      Almond Delight|                                    rich in vitamins|\n",
      "|Apple Cinnamon Ch...|                                    rich in vitamins|\n",
      "|         Apple Jacks|                                    rich in vitamins|\n",
      "|             Basic 4|                                    rich in vitamins|\n",
      "|           Bran Chex|                                    rich in vitamins|\n",
      "|         Bran Flakes|                                    rich in vitamins|\n",
      "|        Cap'n'Crunch|                                    rich in vitamins|\n",
      "|            Cheerios|                                    rich in vitamins|\n",
      "|Cinnamon Toast Cr...|                                    rich in vitamins|\n",
      "|            Clusters|                                    rich in vitamins|\n",
      "|         Cocoa Puffs|                                    rich in vitamins|\n",
      "|           Corn Chex|                                    rich in vitamins|\n",
      "|         Corn Flakes|                                    rich in vitamins|\n",
      "|           Corn Pops|                                    rich in vitamins|\n",
      "|       Count Chocula|                                    rich in vitamins|\n",
      "|  Cracklin' Oat Bran|                                    rich in vitamins|\n",
      "+--------------------+----------------------------------------------------+\n",
      "only showing top 20 rows\n",
      "\n"
     ]
    }
   ],
   "source": [
    "from pyspark.sql.functions import when\n",
    "df.select(\"name\", when(df.vitamins >= \"25\", \"rich in vitamins\")).show()"
   ]
  },
  {
   "cell_type": "markdown",
   "id": "cbd33a61",
   "metadata": {},
   "source": [
    "* filtrar(): La función de filtro se utiliza para filtrar datos en filas según los valores de\n",
    "columna en particular. Por ejemplo, podemos filtrar los cereales que tienen calorías\n",
    "iguales a 100.\n"
   ]
  },
  {
   "cell_type": "code",
   "execution_count": 12,
   "id": "67476219",
   "metadata": {},
   "outputs": [
    {
     "name": "stdout",
     "output_type": "stream",
     "text": [
      "+--------------------+---+----+--------+-------+---+------+-----+-----+------+------+--------+-----+------+----+---------+\n",
      "|                name|mfr|type|calories|protein|fat|sodium|fiber|carbo|sugars|potass|vitamins|shelf|weight|cups|   rating|\n",
      "+--------------------+---+----+--------+-------+---+------+-----+-----+------+------+--------+-----+------+----+---------+\n",
      "|         Corn Flakes|  K|   C|     100|      2|  0|   290|    1|   21|     2|    35|      25|    1|     1|   1|45.863324|\n",
      "|Cream of Wheat (Q...|  N|   H|     100|      3|  0|    80|    1|   21|     0|    -1|       0|    2|     1|   1|64.533816|\n",
      "|Crispy Wheat & Ra...|  G|   C|     100|      2|  1|   140|    2|   11|    10|   120|      25|    3|     1|0.75|36.176196|\n",
      "|         Double Chex|  R|   C|     100|      2|  0|   190|    1|   18|     5|    80|      25|    3|     1|0.75|44.330856|\n",
      "| Frosted Mini-Wheats|  K|   C|     100|      3|  0|     0|    3|   14|     7|   100|      25|    2|     1| 0.8|58.345141|\n",
      "|        Golden Crisp|  P|   C|     100|      2|  0|    45|    0|   11|    15|    40|      25|    1|     1|0.88|35.252444|\n",
      "|   Grape Nuts Flakes|  P|   C|     100|      3|  1|   140|    3|   15|     5|    85|      25|    3|     1|0.88|52.076897|\n",
      "|                Life|  Q|   C|     100|      4|  2|   150|    2|   12|     6|    95|      25|    2|     1|0.67|45.328074|\n",
      "|               Maypo|  A|   H|     100|      4|  1|     0|    0|   16|     3|    95|      25|    2|     1|   1|54.850917|\n",
      "|Multi-Grain Cheerios|  G|   C|     100|      2|  1|   220|    2|   15|     6|    90|      25|    1|     1|   1|40.105965|\n",
      "|          Product 19|  K|   C|     100|      3|  0|   320|    1|   20|     3|    45|     100|    3|     1|   1|41.503540|\n",
      "|  Quaker Oat Squares|  Q|   C|     100|      4|  1|   135|    2|   14|     6|   110|      25|    3|     1| 0.5|49.511874|\n",
      "|      Quaker Oatmeal|  Q|   H|     100|      5|  2|     0|  2.7|   -1|    -1|   110|       0|    1|     1|0.67|50.828392|\n",
      "|     Raisin Nut Bran|  G|   C|     100|      3|  2|   140|  2.5| 10.5|     8|   140|      25|    3|     1| 0.5|39.703400|\n",
      "|   Total Whole Grain|  G|   C|     100|      3|  1|   200|    3|   16|     3|   110|     100|    3|     1|   1|46.658844|\n",
      "|          Wheat Chex|  R|   C|     100|      3|  1|   230|    3|   17|     3|   115|      25|    1|     1|0.67|49.787445|\n",
      "|            Wheaties|  G|   C|     100|      3|  1|   200|    3|   17|     3|   110|      25|    1|     1|   1|51.592193|\n",
      "+--------------------+---+----+--------+-------+---+------+-----+-----+------+------+--------+-----+------+----+---------+\n",
      "\n"
     ]
    }
   ],
   "source": [
    "from pyspark.sql.functions import filter\n",
    "df.filter(df.calories == \"100\").show()"
   ]
  },
  {
   "cell_type": "markdown",
   "id": "b4a58f3e",
   "metadata": {},
   "source": [
    "* isNull () / isNotNull (): Estas dos funciones se utilizan para averiguar si hay algún valor\n",
    "nulo presente en el DataFrame. Es la función más esencial para el procesamiento de datos.\n",
    "Es la principal herramienta utilizada para la limpieza de datos."
   ]
  },
  {
   "cell_type": "code",
   "execution_count": 13,
   "id": "2304d70c",
   "metadata": {},
   "outputs": [
    {
     "name": "stdout",
     "output_type": "stream",
     "text": [
      "+--------------------+---+----+--------+-------+---+------+-----+-----+------+------+--------+-----+------+----+---------+\n",
      "|                name|mfr|type|calories|protein|fat|sodium|fiber|carbo|sugars|potass|vitamins|shelf|weight|cups|   rating|\n",
      "+--------------------+---+----+--------+-------+---+------+-----+-----+------+------+--------+-----+------+----+---------+\n",
      "|           100% Bran|  N|   C|      70|      4|  1|   130|   10|    5|     6|   280|      25|    3|     1|0.33|68.402973|\n",
      "|   100% Natural Bran|  Q|   C|     120|      3|  5|    15|    2|    8|     8|   135|       0|    3|     1|   1|33.983679|\n",
      "|            All-Bran|  K|   C|      70|      4|  1|   260|    9|    7|     5|   320|      25|    3|     1|0.33|59.425505|\n",
      "|All-Bran with Ext...|  K|   C|      50|      4|  0|   140|   14|    8|     0|   330|      25|    3|     1| 0.5|93.704912|\n",
      "|      Almond Delight|  R|   C|     110|      2|  2|   200|    1|   14|     8|    -1|      25|    3|     1|0.75|34.384843|\n",
      "|Apple Cinnamon Ch...|  G|   C|     110|      2|  2|   180|  1.5| 10.5|    10|    70|      25|    1|     1|0.75|29.509541|\n",
      "|         Apple Jacks|  K|   C|     110|      2|  0|   125|    1|   11|    14|    30|      25|    2|     1|   1|33.174094|\n",
      "|             Basic 4|  G|   C|     130|      3|  2|   210|    2|   18|     8|   100|      25|    3|  1.33|0.75|37.038562|\n",
      "|           Bran Chex|  R|   C|      90|      2|  1|   200|    4|   15|     6|   125|      25|    1|     1|0.67|49.120253|\n",
      "|         Bran Flakes|  P|   C|      90|      3|  0|   210|    5|   13|     5|   190|      25|    3|     1|0.67|53.313813|\n",
      "|        Cap'n'Crunch|  Q|   C|     120|      1|  2|   220|    0|   12|    12|    35|      25|    2|     1|0.75|18.042851|\n",
      "|            Cheerios|  G|   C|     110|      6|  2|   290|    2|   17|     1|   105|      25|    1|     1|1.25|50.764999|\n",
      "|Cinnamon Toast Cr...|  G|   C|     120|      1|  3|   210|    0|   13|     9|    45|      25|    2|     1|0.75|19.823573|\n",
      "|            Clusters|  G|   C|     110|      3|  2|   140|    2|   13|     7|   105|      25|    3|     1| 0.5|40.400208|\n",
      "|         Cocoa Puffs|  G|   C|     110|      1|  1|   180|    0|   12|    13|    55|      25|    2|     1|   1|22.736446|\n",
      "|           Corn Chex|  R|   C|     110|      2|  0|   280|    0|   22|     3|    25|      25|    1|     1|   1|41.445019|\n",
      "|         Corn Flakes|  K|   C|     100|      2|  0|   290|    1|   21|     2|    35|      25|    1|     1|   1|45.863324|\n",
      "|           Corn Pops|  K|   C|     110|      1|  0|    90|    1|   13|    12|    20|      25|    2|     1|   1|35.782791|\n",
      "|       Count Chocula|  G|   C|     110|      1|  1|   180|    0|   12|    13|    65|      25|    2|     1|   1|22.396513|\n",
      "|  Cracklin' Oat Bran|  K|   C|     110|      3|  3|   140|    4|   10|     7|   160|      25|    3|     1| 0.5|40.448772|\n",
      "+--------------------+---+----+--------+-------+---+------+-----+-----+------+------+--------+-----+------+----+---------+\n",
      "only showing top 20 rows\n",
      "\n"
     ]
    }
   ],
   "source": [
    "#isNotNull()\n",
    "from pyspark.sql.functions import *\n",
    "\n",
    "#filter data by null values\n",
    "df.filter(df.name.isNotNull()).show()"
   ]
  },
  {
   "cell_type": "code",
   "execution_count": 14,
   "id": "d0a52f63",
   "metadata": {},
   "outputs": [
    {
     "name": "stdout",
     "output_type": "stream",
     "text": [
      "+----+---+----+--------+-------+---+------+-----+-----+------+------+--------+-----+------+----+------+\n",
      "|name|mfr|type|calories|protein|fat|sodium|fiber|carbo|sugars|potass|vitamins|shelf|weight|cups|rating|\n",
      "+----+---+----+--------+-------+---+------+-----+-----+------+------+--------+-----+------+----+------+\n",
      "+----+---+----+--------+-------+---+------+-----+-----+------+------+--------+-----+------+----+------+\n",
      "\n"
     ]
    }
   ],
   "source": [
    "#Otra manera\n",
    "df.filter(df.name.isNull()).show()"
   ]
  },
  {
   "cell_type": "markdown",
   "id": "14561168",
   "metadata": {},
   "source": [
    "Se concluye, que no hay valores nulos en el dataset. Por lo tanto, se muestra un marco de datos vacío."
   ]
  }
 ],
 "metadata": {
  "kernelspec": {
   "display_name": "Python 3 (ipykernel)",
   "language": "python",
   "name": "python3"
  },
  "language_info": {
   "codemirror_mode": {
    "name": "ipython",
    "version": 3
   },
   "file_extension": ".py",
   "mimetype": "text/x-python",
   "name": "python",
   "nbconvert_exporter": "python",
   "pygments_lexer": "ipython3",
   "version": "3.9.12"
  },
  "varInspector": {
   "cols": {
    "lenName": 16,
    "lenType": 16,
    "lenVar": 40
   },
   "kernels_config": {
    "python": {
     "delete_cmd_postfix": "",
     "delete_cmd_prefix": "del ",
     "library": "var_list.py",
     "varRefreshCmd": "print(var_dic_list())"
    },
    "r": {
     "delete_cmd_postfix": ") ",
     "delete_cmd_prefix": "rm(",
     "library": "var_list.r",
     "varRefreshCmd": "cat(var_dic_list()) "
    }
   },
   "types_to_exclude": [
    "module",
    "function",
    "builtin_function_or_method",
    "instance",
    "_Feature"
   ],
   "window_display": false
  }
 },
 "nbformat": 4,
 "nbformat_minor": 5
}
