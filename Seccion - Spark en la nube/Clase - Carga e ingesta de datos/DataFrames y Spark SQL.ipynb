{
 "cells": [
  {
   "cell_type": "markdown",
   "metadata": {},
   "source": [
    "# Cargando un archivos de datos a un DataFrame"
   ]
  },
  {
   "cell_type": "code",
   "execution_count": 2,
   "metadata": {
    "scrolled": true
   },
   "outputs": [
    {
     "data": {
      "text/html": [
       "<style scoped>\n",
       "  .ansiout {\n",
       "    display: block;\n",
       "    unicode-bidi: embed;\n",
       "    white-space: pre-wrap;\n",
       "    word-wrap: break-word;\n",
       "    word-break: break-all;\n",
       "    font-family: \"Source Code Pro\", \"Menlo\", monospace;;\n",
       "    font-size: 13px;\n",
       "    color: #555;\n",
       "    margin-left: 4px;\n",
       "    line-height: 19px;\n",
       "  }\n",
       "</style>\n",
       "<div class=\"ansiout\">+----------+-----+----------+----------------+------+--------+\n",
       "      Date| Time|      City|            Item| Total| Payment|\n",
       "+----------+-----+----------+----------------+------+--------+\n",
       "2012-01-01|09:00|  San Jose|  Men&apos;s Clothing|214.05|    Amex|\n",
       "2012-01-01|09:00|Fort Worth|Women&apos;s Clothing|153.57|    Visa|\n",
       "2012-01-01|09:00| San Diego|           Music| 66.08|    Cash|\n",
       "2012-01-01|09:00|Pittsburgh|    Pet Supplies|493.51|Discover|\n",
       "+----------+-----+----------+----------------+------+--------+\n",
       "only showing top 4 rows\n",
       "\n",
       "</div>"
      ]
     },
     "metadata": {},
     "output_type": "display_data"
    }
   ],
   "source": [
    "#importar módulos\n",
    "from pyspark.sql import SparkSession\n",
    "from pyspark.sql.types import *\n",
    "\n",
    "#crear sesión para poder acceder a todas las API de Spark\n",
    "spark = SparkSession \\\n",
    "    .builder \\\n",
    "    .appName(\"Introducción a Spark DataFrame\") \\\n",
    "    .config(\"spark.some.config.option\", \"some-value\") \\\n",
    "    .getOrCreate()\n",
    "\n",
    "#define el data schema del archivo que queremos leer\n",
    "purchaseSchema = StructType([\n",
    "    StructField(\"Date\", DateType(), True),\n",
    "    StructField(\"Time\", StringType(), True),\n",
    "    StructField(\"City\", StringType(), True),\n",
    "    StructField(\"Item\", StringType(), True),\n",
    "    StructField(\"Total\", FloatType(), True),\n",
    "    StructField(\"Payment\", StringType(), True),\n",
    "])    \n",
    "\n",
    "# lee el archivo csv (con el data schema definido) en un dataframe de Spark. Usa el delimitador \"tab\" \n",
    "\n",
    "purchaseDataframe = spark.read.csv(\n",
    "    \"/FileStore/tables/purchases.csv\", \n",
    "    header=True, schema=purchaseSchema, sep=\"\\t\")\n",
    "\n",
    "#Muestra 3 filas de nuestro Dataframe\n",
    "purchaseDataframe.show(4)"
   ]
  },
  {
   "cell_type": "markdown",
   "metadata": {},
   "source": [
    "## Contamos el número de filas, luego imprimimos el dataframe schema y las estadísticas de nuestra data."
   ]
  },
  {
   "cell_type": "code",
   "execution_count": 4,
   "metadata": {},
   "outputs": [
    {
     "data": {
      "text/html": [
       "<style scoped>\n",
       "  .ansiout {\n",
       "    display: block;\n",
       "    unicode-bidi: embed;\n",
       "    white-space: pre-wrap;\n",
       "    word-wrap: break-word;\n",
       "    word-break: break-all;\n",
       "    font-family: \"Source Code Pro\", \"Menlo\", monospace;;\n",
       "    font-size: 13px;\n",
       "    color: #555;\n",
       "    margin-left: 4px;\n",
       "    line-height: 19px;\n",
       "  }\n",
       "</style>\n",
       "<div class=\"ansiout\">number of rows:  100\n",
       "root\n",
       "-- Date: date (nullable = true)\n",
       "-- Time: string (nullable = true)\n",
       "-- City: string (nullable = true)\n",
       "-- Item: string (nullable = true)\n",
       "-- Total: float (nullable = true)\n",
       "-- Payment: string (nullable = true)\n",
       "\n",
       "+-------+------------------+\n",
       "summary|             Total|\n",
       "+-------+------------------+\n",
       "  count|               100|\n",
       "   mean|232.05479980945586|\n",
       " stddev|147.53289232427304|\n",
       "    min|               2.0|\n",
       "    max|            493.51|\n",
       "+-------+------------------+\n",
       "\n",
       "</div>"
      ]
     },
     "metadata": {},
     "output_type": "display_data"
    }
   ],
   "source": [
    "#Cuenta el número de filas de nuestra dataframe\n",
    "num_rows = purchaseDataframe.count()\n",
    "print(\"number of rows: \", num_rows)\n",
    "\n",
    "#Muestra el dataframe schema\n",
    "purchaseDataframe.printSchema()\n",
    "\n",
    "#Muestra estadísticas del campo que elegimos \"Total\" \n",
    "purchaseDataframe.describe('Total').show()"
   ]
  },
  {
   "cell_type": "markdown",
   "metadata": {},
   "source": [
    "## Creamos un nuevo dataframe como subconjunto del dataframe que cargamos inicialmente"
   ]
  },
  {
   "cell_type": "code",
   "execution_count": 6,
   "metadata": {
    "scrolled": false
   },
   "outputs": [
    {
     "data": {
      "text/html": [
       "<style scoped>\n",
       "  .ansiout {\n",
       "    display: block;\n",
       "    unicode-bidi: embed;\n",
       "    white-space: pre-wrap;\n",
       "    word-wrap: break-word;\n",
       "    word-break: break-all;\n",
       "    font-family: \"Source Code Pro\", \"Menlo\", monospace;;\n",
       "    font-size: 13px;\n",
       "    color: #555;\n",
       "    margin-left: 4px;\n",
       "    line-height: 19px;\n",
       "  }\n",
       "</style>\n",
       "<div class=\"ansiout\">+----------+------+\n",
       "      City| Total|\n",
       "+----------+------+\n",
       "  San Jose|214.05|\n",
       "Fort Worth|153.57|\n",
       " San Diego| 66.08|\n",
       "Pittsburgh|493.51|\n",
       "     Omaha|235.63|\n",
       "+----------+------+\n",
       "only showing top 5 rows\n",
       "\n",
       "root\n",
       "-- City: string (nullable = true)\n",
       "-- Total: float (nullable = true)\n",
       "\n",
       "</div>"
      ]
     },
     "metadata": {},
     "output_type": "display_data"
    }
   ],
   "source": [
    "#Crea un nuevo dataframe con las columnas \"City\" y \"Total\"\n",
    "newDataframe = purchaseDataframe.select(purchaseDataframe['City'], \n",
    "                                              purchaseDataframe['Total'])\n",
    "\n",
    "newDataframe.show(5); #Muestra las 3 primeras filas\n",
    "newDataframe.printSchema() #Muestra el dataset schema del nuuevo dataframe"
   ]
  },
  {
   "cell_type": "markdown",
   "metadata": {},
   "source": [
    "## Sumando un valor constante a todas las filas de una columna"
   ]
  },
  {
   "cell_type": "code",
   "execution_count": 8,
   "metadata": {
    "scrolled": true
   },
   "outputs": [
    {
     "data": {
      "text/html": [
       "<style scoped>\n",
       "  .ansiout {\n",
       "    display: block;\n",
       "    unicode-bidi: embed;\n",
       "    white-space: pre-wrap;\n",
       "    word-wrap: break-word;\n",
       "    word-break: break-all;\n",
       "    font-family: \"Source Code Pro\", \"Menlo\", monospace;;\n",
       "    font-size: 13px;\n",
       "    color: #555;\n",
       "    margin-left: 4px;\n",
       "    line-height: 19px;\n",
       "  }\n",
       "</style>\n",
       "<div class=\"ansiout\">+----------+------+------------+\n",
       "      City| Total|(Total + 10)|\n",
       "+----------+------+------------+\n",
       "  San Jose|214.05|      224.05|\n",
       "Fort Worth|153.57|      163.57|\n",
       " San Diego| 66.08|       76.08|\n",
       "Pittsburgh|493.51|      503.51|\n",
       "     Omaha|235.63|      245.63|\n",
       "+----------+------+------------+\n",
       "only showing top 5 rows\n",
       "\n",
       "</div>"
      ]
     },
     "metadata": {},
     "output_type": "display_data"
    }
   ],
   "source": [
    "#Sumando un valor constante de 10 a todas las filas de la columna \"Total\"\n",
    "purchaseDataframe.select(purchaseDataframe['City'],purchaseDataframe['Total'],\n",
    "                         purchaseDataframe['Total']+10).show(5)"
   ]
  },
  {
   "cell_type": "markdown",
   "metadata": {},
   "source": [
    "## Uso de filtros en un dataframe usando una condición definida"
   ]
  },
  {
   "cell_type": "code",
   "execution_count": 10,
   "metadata": {},
   "outputs": [
    {
     "data": {
      "text/html": [
       "<style scoped>\n",
       "  .ansiout {\n",
       "    display: block;\n",
       "    unicode-bidi: embed;\n",
       "    white-space: pre-wrap;\n",
       "    word-wrap: break-word;\n",
       "    word-break: break-all;\n",
       "    font-family: \"Source Code Pro\", \"Menlo\", monospace;;\n",
       "    font-size: 13px;\n",
       "    color: #555;\n",
       "    margin-left: 4px;\n",
       "    line-height: 19px;\n",
       "  }\n",
       "</style>\n",
       "<div class=\"ansiout\">+----------+-----+----------+-------------------+------+----------+\n",
       "      Date| Time|      City|               Item| Total|   Payment|\n",
       "+----------+-----+----------+-------------------+------+----------+\n",
       "2012-01-01|09:00|  San Jose|     Men&apos;s Clothing|214.05|      Amex|\n",
       "2012-01-01|09:00|Pittsburgh|       Pet Supplies|493.51|  Discover|\n",
       "2012-01-01|09:00|     Omaha|Children&apos;s Clothing|235.63|MasterCard|\n",
       "2012-01-01|09:00|  Stockton|     Men&apos;s Clothing|247.18|MasterCard|\n",
       "2012-01-01|09:00|    Austin|            Cameras| 379.6|      Visa|\n",
       "+----------+-----+----------+-------------------+------+----------+\n",
       "only showing top 5 rows\n",
       "\n",
       "</div>"
      ]
     },
     "metadata": {},
     "output_type": "display_data"
    }
   ],
   "source": [
    "#Filtra solo las filas cuyo valor de la columna \"Total\" sea mayor a 200\n",
    "purchaseDataframe.filter(purchaseDataframe['Total'] > 200).show(5)"
   ]
  },
  {
   "cell_type": "markdown",
   "metadata": {},
   "source": [
    "## Ordenando un dataframe por una columna definida"
   ]
  },
  {
   "cell_type": "code",
   "execution_count": 12,
   "metadata": {
    "scrolled": true
   },
   "outputs": [
    {
     "data": {
      "text/html": [
       "<style scoped>\n",
       "  .ansiout {\n",
       "    display: block;\n",
       "    unicode-bidi: embed;\n",
       "    white-space: pre-wrap;\n",
       "    word-wrap: break-word;\n",
       "    word-break: break-all;\n",
       "    font-family: \"Source Code Pro\", \"Menlo\", monospace;;\n",
       "    font-size: 13px;\n",
       "    color: #555;\n",
       "    margin-left: 4px;\n",
       "    line-height: 19px;\n",
       "  }\n",
       "</style>\n",
       "<div class=\"ansiout\">+----------+-----+-----------+------------+------+----------+\n",
       "      Date| Time|       City|        Item| Total|   Payment|\n",
       "+----------+-----+-----------+------------+------+----------+\n",
       "2012-01-01|09:03|Albuquerque|Pet Supplies| 440.7|      Cash|\n",
       "2012-01-01|09:01|  Anchorage|        DVDs|  6.38|      Amex|\n",
       "2012-01-01|09:01|  Anchorage|      Crafts| 22.36|      Amex|\n",
       "2012-01-01|09:01|  Anchorage|       Music|298.86|MasterCard|\n",
       "2012-01-01|09:03|  Anchorage|        DVDs| 390.2|      Visa|\n",
       "+----------+-----+-----------+------------+------+----------+\n",
       "only showing top 5 rows\n",
       "\n",
       "+----------+-----+--------------+--------------------+------+----------+\n",
       "      Date| Time|          City|                Item| Total|   Payment|\n",
       "+----------+-----+--------------+--------------------+------+----------+\n",
       "2012-01-01|09:03|   Albuquerque|        Pet Supplies| 440.7|      Cash|\n",
       "2012-01-01|09:01|     Anchorage|                DVDs|  6.38|      Amex|\n",
       "2012-01-01|09:01|     Anchorage|              Crafts| 22.36|      Amex|\n",
       "2012-01-01|09:01|     Anchorage|               Music|298.86|MasterCard|\n",
       "2012-01-01|09:04|     Anchorage|   Health and Beauty|368.42|MasterCard|\n",
       "2012-01-01|09:03|     Anchorage|                DVDs| 390.2|      Visa|\n",
       "2012-01-01|09:02|       Atlanta|                Toys|254.62|  Discover|\n",
       "2012-01-01|09:01|        Aurora|Consumer Electronics|117.81|MasterCard|\n",
       "2012-01-01|09:03|        Austin|              Crafts| 127.8|  Discover|\n",
       "2012-01-01|09:01|        Austin|      Sporting Goods|327.75|  Discover|\n",
       "2012-01-01|09:00|        Austin|             Cameras| 379.6|      Visa|\n",
       "2012-01-01|09:00|        Austin|             Cameras|469.63|MasterCard|\n",
       "2012-01-01|09:02|         Boise|                Baby|130.54|  Discover|\n",
       "2012-01-01|09:02|         Boise|         Video Games|350.55|  Discover|\n",
       "2012-01-01|09:00|        Boston|             Cameras|418.94|      Amex|\n",
       "2012-01-01|09:00|       Buffalo|    Women&apos;s Clothing|483.82|      Visa|\n",
       "2012-01-01|09:02|      Chandler|               Books|344.09|  Discover|\n",
       "2012-01-01|09:02|      Chandler|               Books|414.08|      Cash|\n",
       "2012-01-01|09:03|     Charlotte|                DVDs|440.11|      Visa|\n",
       "2012-01-01|09:03|       Chicago|              Garden| 16.15|      Visa|\n",
       "2012-01-01|09:01|       Chicago|               Books| 31.08|      Cash|\n",
       "2012-01-01|09:03|    Cincinnati|                DVDs|299.55|      Visa|\n",
       "2012-01-01|09:00|Corpus Christi|                Toys| 25.38|  Discover|\n",
       "2012-01-01|09:02|        Durham|   Health and Beauty|131.97|      Visa|\n",
       "2012-01-01|09:02|        Durham|                Toys|425.79|      Visa|\n",
       "2012-01-01|09:01|    Fort Wayne|      Men&apos;s Clothing|370.55|      Amex|\n",
       "2012-01-01|09:00|    Fort Worth|    Women&apos;s Clothing|153.57|      Visa|\n",
       "2012-01-01|09:00|    Fort Worth|                Toys|213.88|      Visa|\n",
       "2012-01-01|09:01|       Fremont|                Baby|222.61|      Cash|\n",
       "2012-01-01|09:03|       Fremont|      Men&apos;s Clothing|243.05|  Discover|\n",
       "2012-01-01|09:02|        Fresno|              Crafts|196.83|      Visa|\n",
       "2012-01-01|09:01|        Fresno|                 CDs|466.64|MasterCard|\n",
       "2012-01-01|09:02|       Garland|              Garden|134.33|  Discover|\n",
       "2012-01-01|09:03|    Greensboro|              Garden| 11.96|MasterCard|\n",
       "2012-01-01|09:02|    Greensboro|           Computers|140.94|  Discover|\n",
       "2012-01-01|09:00|    Greensboro|                DVDs|290.82|MasterCard|\n",
       "2012-01-01|09:02|      Honolulu|             Cameras|345.18|  Discover|\n",
       "2012-01-01|09:00|       Houston|                Baby|309.16|      Visa|\n",
       "2012-01-01|09:02|  Indianapolis|               Books|135.96|  Discover|\n",
       "2012-01-01|09:03|  Jacksonville|           Computers|359.65|MasterCard|\n",
       "2012-01-01|09:02|   Kansas City|              Garden|302.69|MasterCard|\n",
       "2012-01-01|09:00|     Las Vegas|         Video Games| 53.26|      Visa|\n",
       "2012-01-01|09:00|     Las Vegas|               Books| 93.39|      Visa|\n",
       "2012-01-01|09:02|     Lexington|    Women&apos;s Clothing|359.29|      Visa|\n",
       "2012-01-01|09:00|       Lincoln|              Garden| 136.9|      Visa|\n",
       "2012-01-01|09:04|       Lubbock|      Sporting Goods|452.07|      Visa|\n",
       "2012-01-01|09:01|       Madison|      Men&apos;s Clothing| 16.78|      Visa|\n",
       "2012-01-01|09:03|       Memphis|                Toys|  9.47|MasterCard|\n",
       "2012-01-01|09:03|     Milwaukee|      Men&apos;s Clothing|418.91|  Discover|\n",
       "2012-01-01|09:02|   Minneapolis|           Computers|182.05|      Visa|\n",
       "2012-01-01|09:03|     Nashville|      Men&apos;s Clothing|297.43|      Amex|\n",
       "2012-01-01|09:03|   New Orleans|               Books|157.08|  Discover|\n",
       "2012-01-01|09:04|   New Orleans|                DVDs|242.31|  Discover|\n",
       "2012-01-01|09:02|      New York|              Garden| 18.27|  Discover|\n",
       "2012-01-01|09:02|      New York|Consumer Electronics|153.84|      Amex|\n",
       "2012-01-01|09:00|      New York|Consumer Electronics| 296.8|      Cash|\n",
       "2012-01-01|09:00|        Newark|         Video Games| 39.75|      Cash|\n",
       "2012-01-01|09:02|       Norfolk|    Women&apos;s Clothing|189.01|      Amex|\n",
       "2012-01-01|09:04|       Norfolk|Consumer Electronics|480.24|      Cash|\n",
       "2012-01-01|09:04|       Oakland|              Garden|155.33|      Visa|\n",
       "2012-01-01|09:00|         Omaha| Children&apos;s Clothing|235.63|MasterCard|\n",
       "2012-01-01|09:01|         Omaha|                Baby|255.68|MasterCard|\n",
       "2012-01-01|09:03|         Omaha| Children&apos;s Clothing|387.75|      Visa|\n",
       "2012-01-01|09:04|  Philadelphia|        Pet Supplies|332.48|      Amex|\n",
       "2012-01-01|09:01|  Philadelphia|                DVDs|351.31|      Cash|\n",
       "2012-01-01|09:04|       Phoenix|      Sporting Goods|371.21|      Visa|\n",
       "2012-01-01|09:03|    Pittsburgh|               Music| 46.99|  Discover|\n",
       "2012-01-01|09:01|    Pittsburgh|      Sporting Goods|475.26|      Amex|\n",
       "2012-01-01|09:00|    Pittsburgh|        Pet Supplies|493.51|  Discover|\n",
       "2012-01-01|09:01|      Portland|                 CDs|108.69|      Amex|\n",
       "2012-01-01|09:01|          Reno|                Toys| 80.46|      Visa|\n",
       "2012-01-01|09:01|          Reno|              Crafts| 88.25|      Visa|\n",
       "2012-01-01|09:02|     Riverside|                Toys|   2.0|      Cash|\n",
       "2012-01-01|09:01|     Riverside|      Sporting Goods| 15.41|  Discover|\n",
       "2012-01-01|09:01|     Riverside|Consumer Electronics|252.88|      Cash|\n",
       "2012-01-01|09:04|     Riverside|           Computers|278.61|  Discover|\n",
       "2012-01-01|09:02|     Riverside|                 CDs|472.71|      Cash|\n",
       "2012-01-01|09:02|    Saint Paul|              Crafts| 33.13|      Amex|\n",
       "2012-01-01|09:04|   San Antonio|                 CDs|125.35|      Amex|\n",
       "2012-01-01|09:03|San Bernardino|    Women&apos;s Clothing|100.38|  Discover|\n",
       "2012-01-01|09:01|San Bernardino|Consumer Electronics| 170.2|      Cash|\n",
       "2012-01-01|09:00|     San Diego|               Music| 66.08|      Cash|\n",
       "2012-01-01|09:00| San Francisco|               Music|260.65|  Discover|\n",
       "2012-01-01|09:00|      San Jose|      Men&apos;s Clothing|214.05|      Amex|\n",
       "2012-01-01|09:00|      San Jose|    Women&apos;s Clothing|215.82|      Cash|\n",
       "2012-01-01|09:03|     Santa Ana|         Video Games|107.94|      Visa|\n",
       "2012-01-01|09:03|     Santa Ana|         Video Games|294.98|      Cash|\n",
       "2012-01-01|09:01|       Spokane|              Garden|  3.85|      Amex|\n",
       "2012-01-01|09:02|       Spokane|                Toys|157.48|MasterCard|\n",
       "2012-01-01|09:01|       Spokane|           Computers|287.65|MasterCard|\n",
       "2012-01-01|09:04|St. Petersburg|                 CDs| 152.9|  Discover|\n",
       "2012-01-01|09:00|      Stockton|      Men&apos;s Clothing|247.18|MasterCard|\n",
       "2012-01-01|09:04|        Toledo|                Baby| 59.08|      Cash|\n",
       "2012-01-01|09:03|        Tucson|   Health and Beauty|367.76|      Visa|\n",
       "2012-01-01|09:03|         Tulsa|              Crafts| 20.07|  Discover|\n",
       "2012-01-01|09:01|         Tulsa|                Baby|205.06|      Visa|\n",
       "2012-01-01|09:03|Virginia Beach|             Cameras|271.56|  Discover|\n",
       "2012-01-01|09:00|Virginia Beach| Children&apos;s Clothing|376.11|      Amex|\n",
       "2012-01-01|09:03|    Washington|               Books|392.81|  Discover|\n",
       "2012-01-01|09:03|       Wichita|      Men&apos;s Clothing|460.38|MasterCard|\n",
       "+----------+-----+--------------+--------------------+------+----------+\n",
       "\n",
       "</div>"
      ]
     },
     "metadata": {},
     "output_type": "display_data"
    }
   ],
   "source": [
    "#Ordena el dataframe por la columna \"City\"\n",
    "sortedByCity = purchaseDataframe.orderBy('City').show(5)\n",
    "sortedByCity = purchaseDataframe.orderBy('City', 'Total').show(100)"
   ]
  },
  {
   "cell_type": "markdown",
   "metadata": {},
   "source": [
    "# Usando consultas SQL en un dataFrame\n",
    "\n",
    "Crear un nuevo dataFrame a partir del subconjunto de nuestro dataFrame existente"
   ]
  },
  {
   "cell_type": "code",
   "execution_count": 20,
   "metadata": {},
   "outputs": [
    {
     "data": {
      "text/html": [
       "<style scoped>\n",
       "  .ansiout {\n",
       "    display: block;\n",
       "    unicode-bidi: embed;\n",
       "    white-space: pre-wrap;\n",
       "    word-wrap: break-word;\n",
       "    word-break: break-all;\n",
       "    font-family: \"Source Code Pro\", \"Menlo\", monospace;;\n",
       "    font-size: 13px;\n",
       "    color: #555;\n",
       "    margin-left: 4px;\n",
       "    line-height: 19px;\n",
       "  }\n",
       "</style>\n",
       "<div class=\"ansiout\">+------+----------+\n",
       " Total|   Payment|\n",
       "+------+----------+\n",
       "214.05|      Amex|\n",
       "153.57|      Visa|\n",
       " 66.08|      Cash|\n",
       "493.51|  Discover|\n",
       "235.63|MasterCard|\n",
       "+------+----------+\n",
       "only showing top 5 rows\n",
       "\n",
       "</div>"
      ]
     },
     "metadata": {},
     "output_type": "display_data"
    }
   ],
   "source": [
    "#Vamos a crear una vista temporal a partir de nuestro dataframe inicial\n",
    "purchaseDataframe.createOrReplaceTempView(\"purchaseSql\")\n",
    "\n",
    "#Selecciona las columnas \"Total\" y \"Payment\" de la vista recientemente creada\n",
    "anotherNewDataframe = spark.sql(\"SELECT Total, Payment FROM purchaseSql\")\n",
    "anotherNewDataframe.show(5)"
   ]
  },
  {
   "cell_type": "markdown",
   "metadata": {},
   "source": [
    "Ordenando los datos a partir de una columna definida"
   ]
  },
  {
   "cell_type": "code",
   "execution_count": 22,
   "metadata": {},
   "outputs": [
    {
     "data": {
      "text/html": [
       "<style scoped>\n",
       "  .ansiout {\n",
       "    display: block;\n",
       "    unicode-bidi: embed;\n",
       "    white-space: pre-wrap;\n",
       "    word-wrap: break-word;\n",
       "    word-break: break-all;\n",
       "    font-family: \"Source Code Pro\", \"Menlo\", monospace;;\n",
       "    font-size: 13px;\n",
       "    color: #555;\n",
       "    margin-left: 4px;\n",
       "    line-height: 19px;\n",
       "  }\n",
       "</style>\n",
       "<div class=\"ansiout\">+----------+-----+-----------+--------------------+------+----------+\n",
       "      Date| Time|       City|                Item| Total|   Payment|\n",
       "+----------+-----+-----------+--------------------+------+----------+\n",
       "2012-01-01|09:03|Albuquerque|        Pet Supplies| 440.7|      Cash|\n",
       "2012-01-01|09:01|  Anchorage|               Music|298.86|MasterCard|\n",
       "2012-01-01|09:04|  Anchorage|   Health and Beauty|368.42|MasterCard|\n",
       "2012-01-01|09:01|  Anchorage|                DVDs|  6.38|      Amex|\n",
       "2012-01-01|09:01|  Anchorage|              Crafts| 22.36|      Amex|\n",
       "2012-01-01|09:03|  Anchorage|                DVDs| 390.2|      Visa|\n",
       "2012-01-01|09:02|    Atlanta|                Toys|254.62|  Discover|\n",
       "2012-01-01|09:01|     Aurora|Consumer Electronics|117.81|MasterCard|\n",
       "2012-01-01|09:00|     Austin|             Cameras|469.63|MasterCard|\n",
       "2012-01-01|09:00|     Austin|             Cameras| 379.6|      Visa|\n",
       "+----------+-----+-----------+--------------------+------+----------+\n",
       "only showing top 10 rows\n",
       "\n",
       "</div>"
      ]
     },
     "metadata": {},
     "output_type": "display_data"
    }
   ],
   "source": [
    "#Ordenando los datos por la columna \"City\"\n",
    "orderByCity = spark.sql(\"SELECT * FROM purchaseSql ORDER BY City\")\n",
    "orderByCity.show(10)"
   ]
  },
  {
   "cell_type": "markdown",
   "metadata": {},
   "source": [
    "Filtraremos la columna \"Total\" para valores mayores a 200 y lo ordenaremos por la columna \"Payment\""
   ]
  },
  {
   "cell_type": "code",
   "execution_count": 24,
   "metadata": {},
   "outputs": [
    {
     "data": {
      "text/html": [
       "<style scoped>\n",
       "  .ansiout {\n",
       "    display: block;\n",
       "    unicode-bidi: embed;\n",
       "    white-space: pre-wrap;\n",
       "    word-wrap: break-word;\n",
       "    word-break: break-all;\n",
       "    font-family: \"Source Code Pro\", \"Menlo\", monospace;;\n",
       "    font-size: 13px;\n",
       "    color: #555;\n",
       "    margin-left: 4px;\n",
       "    line-height: 19px;\n",
       "  }\n",
       "</style>\n",
       "<div class=\"ansiout\">+----------+-----+--------------+--------------------+------+-------+\n",
       "      Date| Time|          City|                Item| Total|Payment|\n",
       "+----------+-----+--------------+--------------------+------+-------+\n",
       "2012-01-01|09:00|Virginia Beach| Children&apos;s Clothing|376.11|   Amex|\n",
       "2012-01-01|09:00|      San Jose|      Men&apos;s Clothing|214.05|   Amex|\n",
       "2012-01-01|09:03|     Nashville|      Men&apos;s Clothing|297.43|   Amex|\n",
       "2012-01-01|09:04|  Philadelphia|        Pet Supplies|332.48|   Amex|\n",
       "2012-01-01|09:01|    Fort Wayne|      Men&apos;s Clothing|370.55|   Amex|\n",
       "2012-01-01|09:00|        Boston|             Cameras|418.94|   Amex|\n",
       "2012-01-01|09:01|    Pittsburgh|      Sporting Goods|475.26|   Amex|\n",
       "2012-01-01|09:00|      San Jose|    Women&apos;s Clothing|215.82|   Cash|\n",
       "2012-01-01|09:00|      New York|Consumer Electronics| 296.8|   Cash|\n",
       "2012-01-01|09:01|     Riverside|Consumer Electronics|252.88|   Cash|\n",
       "+----------+-----+--------------+--------------------+------+-------+\n",
       "only showing top 10 rows\n",
       "\n",
       "</div>"
      ]
     },
     "metadata": {},
     "output_type": "display_data"
    }
   ],
   "source": [
    "filterAndSortWithSQL = spark.sql(\"SELECT * FROM purchaseSql WHERE Total>200 ORDER BY Payment\")\n",
    "filterAndSortWithSQL.show(10)"
   ]
  }
 ],
 "metadata": {
  "kernelspec": {
   "display_name": "Python 3 (ipykernel)",
   "language": "python",
   "name": "python3"
  },
  "language_info": {
   "codemirror_mode": {
    "name": "ipython",
    "version": 3
   },
   "file_extension": ".py",
   "mimetype": "text/x-python",
   "name": "python",
   "nbconvert_exporter": "python",
   "pygments_lexer": "ipython3",
   "version": "3.9.12"
  },
  "name": "02 Introduccion a DataFrame y Spark SQL",
  "notebookId": 2460219875128113
 },
 "nbformat": 4,
 "nbformat_minor": 1
}
